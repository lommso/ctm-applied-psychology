{
 "cells": [
  {
   "cell_type": "markdown",
   "metadata": {},
   "source": [
    "### Load Data"
   ]
  },
  {
   "cell_type": "code",
   "execution_count": 1,
   "metadata": {},
   "outputs": [],
   "source": [
    "import pandas as pd"
   ]
  },
  {
   "cell_type": "markdown",
   "metadata": {},
   "source": [
    "#### Read datasets from all waves"
   ]
  },
  {
   "cell_type": "code",
   "execution_count": null,
   "metadata": {},
   "outputs": [
    {
     "name": "stdout",
     "output_type": "stream",
     "text": [
      "anchor dataset of wave 1 was loaded successfully\n",
      "anchor dataset of wave 2 was loaded successfully\n",
      "anchor dataset of wave 3 was loaded successfully\n",
      "anchor dataset of wave 4 was loaded successfully\n",
      "anchor dataset of wave 5 was loaded successfully\n"
     ]
    }
   ],
   "source": [
    "data_anchor = {}\n",
    "for i in [1,2,3,4,5,6,7,8,9,10,11]:\n",
    "    data_anchor[\"wave\"+str(i)] = pd.read_stata('../../data/pairfam_v11/Data/Stata/anchor'+str(i)+'.dta')\n",
    "    print('anchor dataset of wave '+str(i)+' was loaded successfully')"
   ]
  },
  {
   "cell_type": "markdown",
   "metadata": {},
   "source": [
    "#### Create subsets with variables of interest"
   ]
  },
  {
   "cell_type": "code",
   "execution_count": 3,
   "metadata": {},
   "outputs": [],
   "source": [
    "data_anchor_subset = {}\n",
    "\n",
    "for i in range(1,12):\n",
    "    \n",
    "    subset = None\n",
    "    \n",
    "    if i not in [2,3,6]:\n",
    "        subset = data_anchor['wave'+str(i)].loc[:, ['id', 'sat6', 'per1i6', 'age']]\n",
    "        per1i6_codes = subset['per1i6'].cat.codes\n",
    "        subset['per1i6'] = per1i6_codes - max(per1i6_codes) + 5\n",
    "    \n",
    "    else:\n",
    "        subset = data_anchor['wave'+str(i)].loc[:, ['id', 'sat6']]\n",
    "\n",
    "    # Recode values\n",
    "    sat6_codes = subset['sat6'].cat.codes\n",
    "    subset['sat6'] = sat6_codes - max(sat6_codes) + 10\n",
    "\n",
    "    # Store subset\n",
    "    data_anchor_subset[\"wave\"+str(i)] = subset"
   ]
  },
  {
   "cell_type": "markdown",
   "metadata": {},
   "source": [
    "#### Convert to Wide Format"
   ]
  },
  {
   "cell_type": "code",
   "execution_count": 4,
   "metadata": {},
   "outputs": [],
   "source": [
    "for i in [1,4,5,7,8,9,10,11]:\n",
    "    \n",
    "    # Prepare column names\n",
    "    df_temp = data_anchor_subset[\"wave\"+str(i)].copy()\n",
    "    df_temp.rename(columns={'sat6': 'sat6_T'+str(i), 'per1i6': 'per1i6_T'+str(i)}, inplace=True)\n",
    "    df_temp.drop(['age'], axis=1, inplace=True)\n",
    "    \n",
    "    # Join subsets on anchor id\n",
    "    if i==1:\n",
    "        data_anchor_subset['join'] = df_temp\n",
    "    else:\n",
    "        data_anchor_subset['join'] = pd.merge(data_anchor_subset['join'], df_temp, on=['id']) \n",
    "    \n",
    "# Remove rows with NANs\n",
    "data_anchor_subset['join'] = data_anchor_subset['join'][(data_anchor_subset['join'] >= 0).all(1)]\n",
    "\n",
    "# Rename columns\n",
    "data_anchor_subset['join'] = data_anchor_subset['join'].rename(columns={'sat6_T1':  'sat6_T0', 'per1i6_T1':  'per1i6_T0',\n",
    "                                                                            'sat6_T4':  'sat6_T1', 'per1i6_T4':  'per1i6_T1',\n",
    "                                                                            'sat6_T5':  'sat6_T2', 'per1i6_T5':  'per1i6_T2',\n",
    "                                                                            'sat6_T7':  'sat6_T3', 'per1i6_T7':  'per1i6_T3',\n",
    "                                                                            'sat6_T8':  'sat6_T4', 'per1i6_T8':  'per1i6_T4',\n",
    "                                                                            'sat6_T9':  'sat6_T5', 'per1i6_T9':  'per1i6_T5',\n",
    "                                                                            'sat6_T10': 'sat6_T6', 'per1i6_T10': 'per1i6_T6',\n",
    "                                                                            'sat6_T11': 'sat6_T7', 'per1i6_T11': 'per1i6_T7'})\n",
    "\n",
    "# Add dT columns\n",
    "data_anchor_subset['join']['dT1'] = 3\n",
    "data_anchor_subset['join']['dT2'] = 1\n",
    "data_anchor_subset['join']['dT3'] = 2\n",
    "data_anchor_subset['join']['dT4'] = 1\n",
    "data_anchor_subset['join']['dT5'] = 1\n",
    "data_anchor_subset['join']['dT6'] = 1\n",
    "data_anchor_subset['join']['dT7'] = 1\n",
    "\n",
    "# Drop columns\n",
    "data_anchor_subset['join'] = data_anchor_subset['join'].drop(['id'], axis=1)\n",
    "\n",
    "# Export\n",
    "data_anchor_subset['join'][0:1000].to_csv('../../data/samples/old_sample.csv', index=False)"
   ]
  },
  {
   "cell_type": "markdown",
   "metadata": {},
   "source": [
    "#### Convert to Long Format"
   ]
  },
  {
   "cell_type": "code",
   "execution_count": 9,
   "metadata": {},
   "outputs": [],
   "source": [
    "# Concat subsets\n",
    "data_anchor_subset['union'] = pd.concat([data_anchor_subset['wave1'], \n",
    "                                         data_anchor_subset['wave2'],\n",
    "                                         data_anchor_subset['wave3'],\n",
    "                                         data_anchor_subset['wave4'],\n",
    "                                         data_anchor_subset['wave5'],\n",
    "                                         data_anchor_subset['wave6'],\n",
    "                                         data_anchor_subset['wave7'],\n",
    "                                         data_anchor_subset['wave8'],\n",
    "                                         data_anchor_subset['wave9'],\n",
    "                                         data_anchor_subset['wave10'],\n",
    "                                         data_anchor_subset['wave11']])\n",
    "\n",
    "# Remove rows with NANs\n",
    "data_anchor_subset['union'] = data_anchor_subset['union'][(data_anchor_subset['union'] >= 0).all(1)]\n",
    "\n",
    "# Recode IDs\n",
    "# data_anchor_subset['union']['id'] = data_anchor_subset['union']['id'].astype('category').cat.codes\n",
    "\n",
    "# Export\n",
    "data_anchor_subset['union'].to_csv('../../data/samples/sample_all_complete.csv', index=False)"
   ]
  },
  {
   "cell_type": "code",
   "execution_count": null,
   "metadata": {},
   "outputs": [],
   "source": []
  }
 ],
 "metadata": {
  "kernelspec": {
   "display_name": "Python 3",
   "language": "python",
   "name": "python3"
  },
  "language_info": {
   "codemirror_mode": {
    "name": "ipython",
    "version": 3
   },
   "file_extension": ".py",
   "mimetype": "text/x-python",
   "name": "python",
   "nbconvert_exporter": "python",
   "pygments_lexer": "ipython3",
   "version": "3.8.5"
  }
 },
 "nbformat": 4,
 "nbformat_minor": 4
}
